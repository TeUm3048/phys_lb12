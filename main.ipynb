{
 "cells": [
  {
   "cell_type": "code",
   "execution_count": 2,
   "metadata": {
    "collapsed": true
   },
   "outputs": [],
   "source": [
    "import pandas as pd\n",
    "import numpy as np\n",
    "import matplotlib.pyplot as plt"
   ]
  },
  {
   "cell_type": "code",
   "execution_count": 3,
   "outputs": [
    {
     "data": {
      "text/plain": "0      0.0\n1      1.0\n2      2.0\n3      3.0\n4      4.0\n5      5.0\n6      6.0\n7      7.0\n8      8.0\n9      9.0\n10    10.0\n11    11.0\n12    12.0\n13    13.0\n14    14.0\n15    15.0\n16    16.0\n17    17.0\n18    18.0\n19    19.0\n20    20.0\nName: voltage, dtype: float64"
     },
     "execution_count": 3,
     "metadata": {},
     "output_type": "execute_result"
    }
   ],
   "source": [
    "U = pd.Series(np.arange(0.0, 21.0), name=\"voltage\")\n",
    "U"
   ],
   "metadata": {
    "collapsed": false
   }
  },
  {
   "cell_type": "code",
   "execution_count": 4,
   "outputs": [
    {
     "data": {
      "text/plain": "0     0.072\n1     0.081\n2     0.110\n3     0.134\n4     0.150\n5     0.164\n6     0.173\n7     0.177\n8     0.181\n9     0.186\n10    0.190\n11    0.193\n12    0.200\n13    0.202\n14    0.203\n15    0.202\n16    0.201\n17    0.205\n18    0.205\n19    0.203\n20    0.205\nName: current_2_green, dtype: float64"
     },
     "execution_count": 4,
     "metadata": {},
     "output_type": "execute_result"
    }
   ],
   "source": [
    "I_2_green = pd.Series(\n",
    "    [72, 81, 110, 134, 150, 164, 173, 177, 181, 186, 190, 193, 200, 202, 203, 202, 201, 205, 205, 203, 205],\n",
    "    name=\"current_2_green\") * 1e-3\n",
    "I_2_green"
   ],
   "metadata": {
    "collapsed": false
   }
  },
  {
   "cell_type": "code",
   "execution_count": 5,
   "outputs": [
    {
     "data": {
      "text/plain": "0     0.014\n1     0.033\n2     0.051\n3     0.065\n4     0.075\n5     0.086\n6     0.092\n7     0.097\n8     0.103\n9     0.106\n10    0.107\n11    0.106\n12    0.107\n13    0.110\n14    0.111\n15    0.115\n16    0.112\n17    0.112\n18    0.112\n19    0.112\n20    0.112\nName: current_3_green, dtype: float64"
     },
     "execution_count": 5,
     "metadata": {},
     "output_type": "execute_result"
    }
   ],
   "source": [
    "I_3_green = pd.Series([14, 33, 51, 65, 75, 86, 92, 97, 103, 106, 107, 106, 107, 110, 111, 115, 112, 112, 112, 112, 112],\n",
    "                      name=\"current_3_green\") * 1e-3\n",
    "I_3_green"
   ],
   "metadata": {
    "collapsed": false
   }
  },
  {
   "cell_type": "code",
   "execution_count": 6,
   "outputs": [
    {
     "data": {
      "text/plain": "0     0.007\n1     0.014\n2     0.022\n3     0.028\n4     0.032\n5     0.036\n6     0.040\n7     0.043\n8     0.046\n9     0.049\n10    0.048\n11    0.048\n12    0.050\n13    0.051\n14    0.051\n15    0.053\n16    0.051\n17    0.051\n18    0.051\n19    0.051\n20    0.051\nName: current_4_green, dtype: float64"
     },
     "execution_count": 6,
     "metadata": {},
     "output_type": "execute_result"
    }
   ],
   "source": [
    "I_4_green = pd.Series([7, 14, 22, 28, 32, 36, 40, 43, 46, 49, 48, 48, 50, 51, 51, 53, 51, 51, 51, 51, 51],\n",
    "                      name=\"current_4_green\") * 1e-3\n",
    "I_4_green"
   ],
   "metadata": {
    "collapsed": false
   }
  },
  {
   "cell_type": "code",
   "execution_count": 7,
   "outputs": [
    {
     "data": {
      "text/plain": "0     0.173\n1     0.393\n2     0.622\n3     0.925\n4     1.150\n5     1.310\n6     1.402\n7     1.495\n8     1.498\n9     1.538\n10    1.555\n11    1.610\n12    1.640\n13    1.680\n14    1.700\n15    1.690\n16    1.690\n17    1.690\n18    1.690\n19    1.690\n20    1.690\nName: current_2_blue, dtype: float64"
     },
     "execution_count": 7,
     "metadata": {},
     "output_type": "execute_result"
    }
   ],
   "source": [
    "I_2_blue = pd.Series(\n",
    "    [173, 393, 622, 925, 1150, 1310, 1402, 1495, 1498, 1538, 1555, 1610, 1640, 1680, 1700, 1690, 1690, 1690, 1690, 1690,\n",
    "     1690], name=\"current_2_blue\") * 1e-3\n",
    "I_2_blue"
   ],
   "metadata": {
    "collapsed": false
   }
  },
  {
   "cell_type": "code",
   "execution_count": 8,
   "outputs": [
    {
     "data": {
      "text/plain": "0     0.121\n1     0.269\n2     0.419\n3     0.589\n4     0.700\n5     0.771\n6     0.815\n7     0.820\n8     0.846\n9     0.837\n10    0.860\n11    0.880\n12    0.890\n13    0.900\n14    0.910\n15    0.890\n16    0.910\n17    0.910\n18    0.910\n19    0.910\n20    0.910\nName: current_3_blue, dtype: float64"
     },
     "execution_count": 8,
     "metadata": {},
     "output_type": "execute_result"
    }
   ],
   "source": [
    "I_3_blue = pd.Series(\n",
    "    [121, 269, 419, 589, 700, 771, 815, 820, 846, 837, 860, 880, 890, 900, 910, 890, 910, 910, 910, 910, 910],\n",
    "    name=\"current_3_blue\") * 1e-3\n",
    "I_3_blue"
   ],
   "metadata": {
    "collapsed": false
   }
  },
  {
   "cell_type": "code",
   "execution_count": 9,
   "outputs": [
    {
     "data": {
      "text/plain": "0     0.068\n1     0.144\n2     0.219\n3     0.295\n4     0.340\n5     0.365\n6     0.360\n7     0.360\n8     0.385\n9     0.373\n10    0.390\n11    0.400\n12    0.410\n13    0.410\n14    0.410\n15    0.400\n16    0.400\n17    0.400\n18    0.400\n19    0.400\n20    0.400\nName: current_4_blue, dtype: float64"
     },
     "execution_count": 9,
     "metadata": {},
     "output_type": "execute_result"
    }
   ],
   "source": [
    "I_4_blue = pd.Series(\n",
    "    [68, 144, 219, 295, 340, 365, 360, 360, 385, 373, 390, 400, 410, 410, 410, 400, 400, 400, 400, 400, 400],\n",
    "    name=\"current_4_blue\") * 1e-3\n",
    "I_4_blue"
   ],
   "metadata": {
    "collapsed": false
   }
  },
  {
   "cell_type": "code",
   "execution_count": 10,
   "outputs": [
    {
     "data": {
      "text/plain": "                    0      1      2      3      4      5      6      7   \\\nvoltage          0.000  1.000  2.000  3.000  4.000  5.000  6.000  7.000   \ncurrent_2_green  0.072  0.081  0.110  0.134  0.150  0.164  0.173  0.177   \ncurrent_3_green  0.014  0.033  0.051  0.065  0.075  0.086  0.092  0.097   \ncurrent_4_green  0.007  0.014  0.022  0.028  0.032  0.036  0.040  0.043   \ncurrent_2_blue   0.173  0.393  0.622  0.925  1.150  1.310  1.402  1.495   \ncurrent_3_blue   0.121  0.269  0.419  0.589  0.700  0.771  0.815  0.820   \ncurrent_4_blue   0.068  0.144  0.219  0.295  0.340  0.365  0.360  0.360   \n\n                    8      9   ...      11      12      13      14      15  \\\nvoltage          8.000  9.000  ...  11.000  12.000  13.000  14.000  15.000   \ncurrent_2_green  0.181  0.186  ...   0.193   0.200   0.202   0.203   0.202   \ncurrent_3_green  0.103  0.106  ...   0.106   0.107   0.110   0.111   0.115   \ncurrent_4_green  0.046  0.049  ...   0.048   0.050   0.051   0.051   0.053   \ncurrent_2_blue   1.498  1.538  ...   1.610   1.640   1.680   1.700   1.690   \ncurrent_3_blue   0.846  0.837  ...   0.880   0.890   0.900   0.910   0.890   \ncurrent_4_blue   0.385  0.373  ...   0.400   0.410   0.410   0.410   0.400   \n\n                     16      17      18      19      20  \nvoltage          16.000  17.000  18.000  19.000  20.000  \ncurrent_2_green   0.201   0.205   0.205   0.203   0.205  \ncurrent_3_green   0.112   0.112   0.112   0.112   0.112  \ncurrent_4_green   0.051   0.051   0.051   0.051   0.051  \ncurrent_2_blue    1.690   1.690   1.690   1.690   1.690  \ncurrent_3_blue    0.910   0.910   0.910   0.910   0.910  \ncurrent_4_blue    0.400   0.400   0.400   0.400   0.400  \n\n[7 rows x 21 columns]",
      "text/html": "<div>\n<style scoped>\n    .dataframe tbody tr th:only-of-type {\n        vertical-align: middle;\n    }\n\n    .dataframe tbody tr th {\n        vertical-align: top;\n    }\n\n    .dataframe thead th {\n        text-align: right;\n    }\n</style>\n<table border=\"1\" class=\"dataframe\">\n  <thead>\n    <tr style=\"text-align: right;\">\n      <th></th>\n      <th>0</th>\n      <th>1</th>\n      <th>2</th>\n      <th>3</th>\n      <th>4</th>\n      <th>5</th>\n      <th>6</th>\n      <th>7</th>\n      <th>8</th>\n      <th>9</th>\n      <th>...</th>\n      <th>11</th>\n      <th>12</th>\n      <th>13</th>\n      <th>14</th>\n      <th>15</th>\n      <th>16</th>\n      <th>17</th>\n      <th>18</th>\n      <th>19</th>\n      <th>20</th>\n    </tr>\n  </thead>\n  <tbody>\n    <tr>\n      <th>voltage</th>\n      <td>0.000</td>\n      <td>1.000</td>\n      <td>2.000</td>\n      <td>3.000</td>\n      <td>4.000</td>\n      <td>5.000</td>\n      <td>6.000</td>\n      <td>7.000</td>\n      <td>8.000</td>\n      <td>9.000</td>\n      <td>...</td>\n      <td>11.000</td>\n      <td>12.000</td>\n      <td>13.000</td>\n      <td>14.000</td>\n      <td>15.000</td>\n      <td>16.000</td>\n      <td>17.000</td>\n      <td>18.000</td>\n      <td>19.000</td>\n      <td>20.000</td>\n    </tr>\n    <tr>\n      <th>current_2_green</th>\n      <td>0.072</td>\n      <td>0.081</td>\n      <td>0.110</td>\n      <td>0.134</td>\n      <td>0.150</td>\n      <td>0.164</td>\n      <td>0.173</td>\n      <td>0.177</td>\n      <td>0.181</td>\n      <td>0.186</td>\n      <td>...</td>\n      <td>0.193</td>\n      <td>0.200</td>\n      <td>0.202</td>\n      <td>0.203</td>\n      <td>0.202</td>\n      <td>0.201</td>\n      <td>0.205</td>\n      <td>0.205</td>\n      <td>0.203</td>\n      <td>0.205</td>\n    </tr>\n    <tr>\n      <th>current_3_green</th>\n      <td>0.014</td>\n      <td>0.033</td>\n      <td>0.051</td>\n      <td>0.065</td>\n      <td>0.075</td>\n      <td>0.086</td>\n      <td>0.092</td>\n      <td>0.097</td>\n      <td>0.103</td>\n      <td>0.106</td>\n      <td>...</td>\n      <td>0.106</td>\n      <td>0.107</td>\n      <td>0.110</td>\n      <td>0.111</td>\n      <td>0.115</td>\n      <td>0.112</td>\n      <td>0.112</td>\n      <td>0.112</td>\n      <td>0.112</td>\n      <td>0.112</td>\n    </tr>\n    <tr>\n      <th>current_4_green</th>\n      <td>0.007</td>\n      <td>0.014</td>\n      <td>0.022</td>\n      <td>0.028</td>\n      <td>0.032</td>\n      <td>0.036</td>\n      <td>0.040</td>\n      <td>0.043</td>\n      <td>0.046</td>\n      <td>0.049</td>\n      <td>...</td>\n      <td>0.048</td>\n      <td>0.050</td>\n      <td>0.051</td>\n      <td>0.051</td>\n      <td>0.053</td>\n      <td>0.051</td>\n      <td>0.051</td>\n      <td>0.051</td>\n      <td>0.051</td>\n      <td>0.051</td>\n    </tr>\n    <tr>\n      <th>current_2_blue</th>\n      <td>0.173</td>\n      <td>0.393</td>\n      <td>0.622</td>\n      <td>0.925</td>\n      <td>1.150</td>\n      <td>1.310</td>\n      <td>1.402</td>\n      <td>1.495</td>\n      <td>1.498</td>\n      <td>1.538</td>\n      <td>...</td>\n      <td>1.610</td>\n      <td>1.640</td>\n      <td>1.680</td>\n      <td>1.700</td>\n      <td>1.690</td>\n      <td>1.690</td>\n      <td>1.690</td>\n      <td>1.690</td>\n      <td>1.690</td>\n      <td>1.690</td>\n    </tr>\n    <tr>\n      <th>current_3_blue</th>\n      <td>0.121</td>\n      <td>0.269</td>\n      <td>0.419</td>\n      <td>0.589</td>\n      <td>0.700</td>\n      <td>0.771</td>\n      <td>0.815</td>\n      <td>0.820</td>\n      <td>0.846</td>\n      <td>0.837</td>\n      <td>...</td>\n      <td>0.880</td>\n      <td>0.890</td>\n      <td>0.900</td>\n      <td>0.910</td>\n      <td>0.890</td>\n      <td>0.910</td>\n      <td>0.910</td>\n      <td>0.910</td>\n      <td>0.910</td>\n      <td>0.910</td>\n    </tr>\n    <tr>\n      <th>current_4_blue</th>\n      <td>0.068</td>\n      <td>0.144</td>\n      <td>0.219</td>\n      <td>0.295</td>\n      <td>0.340</td>\n      <td>0.365</td>\n      <td>0.360</td>\n      <td>0.360</td>\n      <td>0.385</td>\n      <td>0.373</td>\n      <td>...</td>\n      <td>0.400</td>\n      <td>0.410</td>\n      <td>0.410</td>\n      <td>0.410</td>\n      <td>0.400</td>\n      <td>0.400</td>\n      <td>0.400</td>\n      <td>0.400</td>\n      <td>0.400</td>\n      <td>0.400</td>\n    </tr>\n  </tbody>\n</table>\n<p>7 rows × 21 columns</p>\n</div>"
     },
     "execution_count": 10,
     "metadata": {},
     "output_type": "execute_result"
    }
   ],
   "source": [
    "df = pd.DataFrame([U, I_2_green, I_3_green, I_4_green, I_2_blue, I_3_blue, I_4_blue])\n",
    "df"
   ],
   "metadata": {
    "collapsed": false
   }
  },
  {
   "cell_type": "code",
   "execution_count": 96,
   "outputs": [
    {
     "data": {
      "text/plain": "<Figure size 640x480 with 1 Axes>",
      "image/png": "[encoded data removed]"
     },
     "metadata": {},
     "output_type": "display_data"
    }
   ],
   "source": [
    "fig, ax = plt.subplots()\n",
    "ax.plot(df.loc[\"voltage\"], df.loc[\"current_2_green\"], color=\"green\")\n",
    "plt.axhline(y=df.loc[\"current_2_green\"][-5:].mean(), color=\"black\", linestyle=\"--\")\n",
    "\n",
    "ax.plot(df.loc[\"voltage\"], df.loc[\"current_3_green\"], color=\"green\")\n",
    "plt.axhline(y=df.loc[\"current_3_green\"][-5:].mean(), color=\"black\", linestyle=\"--\")\n",
    "\n",
    "ax.plot(df.loc[\"voltage\"], df.loc[\"current_4_green\"], color=\"green\")\n",
    "plt.axhline(y=df.loc[\"current_4_green\"][-5:].mean(), color=\"black\", linestyle=\"--\")\n",
    "plt.xlabel('Напряжение, B')\n",
    "plt.ylabel('Сила тока, A')\n",
    "plt.title('Зелёный светофильтр')\n",
    "ax.grid(True, which='both')\n",
    "\n",
    "plt.show()"
   ],
   "metadata": {
    "collapsed": false
   }
  },
  {
   "cell_type": "code",
   "execution_count": 95,
   "outputs": [
    {
     "data": {
      "text/plain": "<Figure size 640x480 with 1 Axes>",
      "image/png": "[encoded data removed]"
     },
     "metadata": {},
     "output_type": "display_data"
    }
   ],
   "source": [
    "fig, ax = plt.subplots()\n",
    "ax.plot(df.loc[\"voltage\"], df.loc[\"current_2_blue\"], color=\"cyan\")\n",
    "plt.axhline(y=df.loc[\"current_2_blue\"][-5:].mean(), color=\"black\", linestyle=\"--\")\n",
    "\n",
    "ax.plot(df.loc[\"voltage\"], df.loc[\"current_3_blue\"], color=\"cyan\")\n",
    "plt.axhline(y=df.loc[\"current_3_blue\"][-5:].mean(), color=\"black\", linestyle=\"--\")\n",
    "\n",
    "ax.plot(df.loc[\"voltage\"], df.loc[\"current_4_blue\"], color=\"cyan\")\n",
    "plt.axhline(y=df.loc[\"current_4_blue\"][-5:].mean(), color=\"black\", linestyle=\"--\")\n",
    "plt.xlabel('Напряжение, B')\n",
    "plt.ylabel('Сила тока, A')\n",
    "plt.title('Синий светофильтр')\n",
    "ax.grid(True, which='both')\n",
    "\n",
    "plt.show()"
   ],
   "metadata": {
    "collapsed": false
   }
  },
  {
   "cell_type": "code",
   "execution_count": 13,
   "outputs": [
    {
     "data": {
      "text/plain": "(I_2_green_saturation    0.2038\n I_3_green_saturation    0.1120\n I_4_green_saturation    0.0510\n dtype: float64,\n I_2_blue_saturation    1.69\n I_3_blue_saturation    0.91\n I_4_blue_saturation    0.40\n dtype: float64)"
     },
     "execution_count": 13,
     "metadata": {},
     "output_type": "execute_result"
    }
   ],
   "source": [
    "I_green_saturation = pd.Series(data={\"I_2_green_saturation\": df.loc[\"current_2_green\"][-5:].mean(),\n",
    "                                     \"I_3_green_saturation\": df.loc[\"current_3_green\"][-5:].mean(),\n",
    "                                     \"I_4_green_saturation\": df.loc[\"current_4_green\"][-5:].mean()})\n",
    "I_blue_saturation = pd.Series(data={\"I_2_blue_saturation\": df.loc[\"current_2_blue\"][-5:].mean(),\n",
    "                                    \"I_3_blue_saturation\": df.loc[\"current_3_blue\"][-5:].mean(),\n",
    "                                    \"I_4_blue_saturation\": df.loc[\"current_4_blue\"][-5:].mean()})\n",
    "I_green_saturation, I_blue_saturation"
   ],
   "metadata": {
    "collapsed": false
   }
  },
  {
   "cell_type": "code",
   "execution_count": 14,
   "outputs": [
    {
     "data": {
      "text/plain": "E_2    1.00\nE_3    0.61\nE_4    0.29\ndtype: float64"
     },
     "execution_count": 14,
     "metadata": {},
     "output_type": "execute_result"
    }
   ],
   "source": [
    "E = pd.Series(data={\"E_2\": 1.00,\n",
    "                    \"E_3\": 0.61,\n",
    "                    \"E_4\": 0.29})\n",
    "E"
   ],
   "metadata": {
    "collapsed": false
   }
  },
  {
   "cell_type": "code",
   "execution_count": 15,
   "outputs": [
    {
     "data": {
      "text/plain": "(Polynomial([0.12478593, 0.07665772], domain=[0.29, 1.  ], window=[-1.,  1.], symbol='x'),\n Polynomial([1.02127406, 0.64733918], domain=[0.29, 1.  ], window=[-1.,  1.], symbol='x'))"
     },
     "execution_count": 15,
     "metadata": {},
     "output_type": "execute_result"
    }
   ],
   "source": [
    "from numpy.polynomial import Polynomial\n",
    "\n",
    "I_green_fit = Polynomial.fit(E, I_green_saturation, 1)\n",
    "I_blue_fit = Polynomial.fit(E, I_blue_saturation, 1)\n",
    "\n",
    "I_green_fit, I_blue_fit"
   ],
   "metadata": {
    "collapsed": false
   }
  },
  {
   "cell_type": "code",
   "execution_count": 94,
   "outputs": [
    {
     "data": {
      "text/plain": "<Figure size 640x480 with 1 Axes>",
      "image/png": "[encoded data removed]"
     },
     "metadata": {},
     "output_type": "display_data"
    }
   ],
   "source": [
    "fig, ax = plt.subplots()\n",
    "E_range = np.arange(0, 1.2, 0.1)\n",
    "ax.plot(E_range, I_green_fit(E_range), color=\"darkolivegreen\", linestyle=\"--\")\n",
    "ax.plot(E_range, I_blue_fit(E_range), color=\"navy\", linestyle=\"--\")\n",
    "ax.plot(E, I_green_saturation, color=\"green\", marker='o', linestyle=\"None\")\n",
    "ax.plot(E, I_blue_saturation, color=\"cyan\", marker='o', linestyle=\"None\")\n",
    "\n",
    "plt.xlabel('Интенсивность, Вт/м$^2$')\n",
    "plt.ylabel('Сила тока, A')\n",
    "plt.title('')\n",
    "ax.grid(True, which='both')\n",
    "\n",
    "\n",
    "plt.show()"
   ],
   "metadata": {
    "collapsed": false
   }
  },
  {
   "cell_type": "code",
   "execution_count": 17,
   "outputs": [],
   "source": [
    "c_light_speed = 299_792_458\n",
    "h_Planck_constant = 6.62e-34"
   ],
   "metadata": {
    "collapsed": false
   }
  },
  {
   "cell_type": "code",
   "execution_count": 18,
   "outputs": [],
   "source": [
    "lambda_green = 550e-9\n",
    "lambda_blue = 515e-9\n",
    "v_green = 5.45e14\n",
    "v_blue = 5.83e14"
   ],
   "metadata": {
    "collapsed": false
   }
  },
  {
   "cell_type": "code",
   "execution_count": 19,
   "outputs": [
    {
     "data": {
      "text/plain": "(0    0.67\n 1    0.68\n 2    0.69\n 3    0.65\n 4    0.66\n dtype: float64,\n 0    0.67\n 1    0.67\n 2    0.69\n 3    0.71\n 4    0.68\n dtype: float64)"
     },
     "execution_count": 19,
     "metadata": {},
     "output_type": "execute_result"
    }
   ],
   "source": [
    "U_locking_green = pd.Series([0.67, 0.68, 0.69, 0.65, 0.66])\n",
    "U_locking_blue = pd.Series([0.67, 0.67, 0.69, 0.71, 0.68])\n",
    "U_locking_green, U_locking_blue"
   ],
   "metadata": {
    "collapsed": false
   }
  },
  {
   "cell_type": "code",
   "execution_count": 89,
   "outputs": [
    {
     "name": "stdout",
     "output_type": "stream",
     "text": [
      "0.677 + 0.007 x\n"
     ]
    },
    {
     "data": {
      "text/plain": "0.684"
     },
     "execution_count": 89,
     "metadata": {},
     "output_type": "execute_result"
    }
   ],
   "source": [
    "from numpy.polynomial import Polynomial\n",
    "\n",
    "U_locking_fit = Polynomial.fit([v_green, v_blue], [U_locking_green.mean(), U_locking_blue.mean()], 1)\n",
    "print(U_locking_fit)"
   ],
   "metadata": {
    "collapsed": false
   }
  },
  {
   "cell_type": "code",
   "execution_count": 90,
   "outputs": [
    {
     "data": {
      "text/plain": "array([3.68421053e-16, 4.69210526e-01])"
     },
     "execution_count": 90,
     "metadata": {},
     "output_type": "execute_result"
    }
   ],
   "source": [
    "np.polyfit([v_green, v_blue], [U_locking_green.mean(), U_locking_blue.mean()], deg=1)"
   ],
   "metadata": {
    "collapsed": false
   }
  },
  {
   "cell_type": "code",
   "execution_count": 93,
   "outputs": [
    {
     "data": {
      "text/plain": "<Figure size 640x480 with 1 Axes>",
      "image/png": "[encoded data removed]"
     },
     "metadata": {},
     "output_type": "display_data"
    }
   ],
   "source": [
    "fig, ax = plt.subplots()\n",
    "v_range = np.arange(-13e14, 6e14, 1e13)\n",
    "ax.plot(v_green, U_locking_green.mean(), color=\"green\", marker='o', linestyle=\"None\")\n",
    "ax.plot(v_blue, U_locking_blue.mean(), color=\"cyan\", marker='o', linestyle=\"None\")\n",
    "ax.plot(v_range, U_locking_fit(v_range), color=\"black\", linestyle=\"--\")\n",
    "\n",
    "plt.xlabel('Частота световой волны, Гц')\n",
    "plt.ylabel('Запирающее напряжение, В')\n",
    "plt.title('')\n",
    "ax.grid(True, which='both')\n",
    "\n",
    "# set the x-spine (see below for more info on `set_position`)\n",
    "ax.spines['left'].set_position('zero')\n",
    "\n",
    "# turn off the right spine/ticks\n",
    "ax.spines['right'].set_color('none')\n",
    "ax.yaxis.tick_left()\n",
    "\n",
    "# set the y-spine\n",
    "ax.spines['bottom'].set_position('zero')\n",
    "\n",
    "# turn off the top spine/ticks\n",
    "ax.spines['top'].set_color('none')\n",
    "ax.xaxis.tick_bottom()\n",
    "\n",
    "plt.show()"
   ],
   "metadata": {
    "collapsed": false
   }
  },
  {
   "cell_type": "code",
   "execution_count": 63,
   "outputs": [
    {
     "data": {
      "text/plain": "array([0.2038    , 0.18360656, 0.17586207])"
     },
     "execution_count": 63,
     "metadata": {},
     "output_type": "execute_result"
    }
   ],
   "source": [
    "k_green = I_green_saturation.values / E.values\n",
    "k_green"
   ],
   "metadata": {
    "collapsed": false
   }
  },
  {
   "cell_type": "code",
   "execution_count": 26,
   "outputs": [
    {
     "data": {
      "text/plain": "array([1.69      , 1.49180328, 1.37931034])"
     },
     "execution_count": 26,
     "metadata": {},
     "output_type": "execute_result"
    }
   ],
   "source": [
    "k_blue = I_blue_saturation.values / E.values\n",
    "k_blue"
   ],
   "metadata": {
    "collapsed": false
   }
  },
  {
   "cell_type": "code",
   "execution_count": 27,
   "outputs": [
    {
     "data": {
      "text/plain": "0.0002"
     },
     "execution_count": 27,
     "metadata": {},
     "output_type": "execute_result"
    }
   ],
   "source": [
    "I_instrumental_error = 1e-3\n",
    "I_saturation_instrumental_error = I_instrumental_error / 5\n",
    "I_saturation_instrumental_error"
   ],
   "metadata": {
    "collapsed": false
   }
  },
  {
   "cell_type": "code",
   "execution_count": 28,
   "outputs": [
    {
     "data": {
      "text/plain": "0.01"
     },
     "execution_count": 28,
     "metadata": {},
     "output_type": "execute_result"
    }
   ],
   "source": [
    "E_instrumental_error = 0.01\n",
    "E_instrumental_error"
   ],
   "metadata": {
    "collapsed": false
   }
  },
  {
   "cell_type": "code",
   "execution_count": 30,
   "outputs": [
    {
     "data": {
      "text/plain": "array([0.002238  , 0.00333781, 0.00675386])"
     },
     "execution_count": 30,
     "metadata": {},
     "output_type": "execute_result"
    }
   ],
   "source": [
    "k_green_instrumental_error = k_green * (\n",
    "        I_saturation_instrumental_error / I_green_saturation.values + E_instrumental_error / E.values)\n",
    "k_green_instrumental_error"
   ],
   "metadata": {
    "collapsed": false
   }
  },
  {
   "cell_type": "code",
   "execution_count": 31,
   "outputs": [
    {
     "data": {
      "text/plain": "array([0.0171    , 0.02478366, 0.04825208])"
     },
     "execution_count": 31,
     "metadata": {},
     "output_type": "execute_result"
    }
   ],
   "source": [
    "k_blue_instrumental_error = k_blue * (\n",
    "        I_saturation_instrumental_error / I_blue_saturation.values + E_instrumental_error / E.values)\n",
    "k_blue_instrumental_error"
   ],
   "metadata": {
    "collapsed": false
   }
  },
  {
   "cell_type": "code",
   "execution_count": 32,
   "outputs": [
    {
     "data": {
      "text/plain": "(5000.0, 5400.0)"
     },
     "execution_count": 32,
     "metadata": {},
     "output_type": "execute_result"
    }
   ],
   "source": [
    "a_green = 5.0e3\n",
    "a_blue = 5.4e3\n",
    "a_green, a_blue"
   ],
   "metadata": {
    "collapsed": false
   }
  },
  {
   "cell_type": "code",
   "execution_count": 33,
   "outputs": [
    {
     "data": {
      "text/plain": "array([1019.        ,  918.03278689,  879.31034483])"
     },
     "execution_count": 33,
     "metadata": {},
     "output_type": "execute_result"
    }
   ],
   "source": [
    "quantum_yield_green = a_green * k_green\n",
    "quantum_yield_green"
   ],
   "metadata": {
    "collapsed": false
   }
  },
  {
   "cell_type": "code",
   "execution_count": 34,
   "outputs": [
    {
     "data": {
      "text/plain": "array([9126.        , 8055.73770492, 7448.27586207])"
     },
     "execution_count": 34,
     "metadata": {},
     "output_type": "execute_result"
    }
   ],
   "source": [
    "quantum_yield_blue = a_blue * k_blue\n",
    "quantum_yield_blue"
   ],
   "metadata": {
    "collapsed": false
   }
  },
  {
   "cell_type": "code",
   "execution_count": 35,
   "outputs": [
    {
     "data": {
      "text/plain": "array([11.19      , 16.68906208, 33.76932224])"
     },
     "execution_count": 35,
     "metadata": {},
     "output_type": "execute_result"
    }
   ],
   "source": [
    "quantum_yield_green_instrumental_error = quantum_yield_green * k_green_instrumental_error / k_green\n",
    "quantum_yield_green_instrumental_error"
   ],
   "metadata": {
    "collapsed": false
   }
  },
  {
   "cell_type": "code",
   "execution_count": 36,
   "outputs": [
    {
     "data": {
      "text/plain": "array([ 92.34      , 133.83176565, 260.56123662])"
     },
     "execution_count": 36,
     "metadata": {},
     "output_type": "execute_result"
    }
   ],
   "source": [
    "quantum_yield_blue_instrumental_error = quantum_yield_blue * k_blue_instrumental_error / k_blue\n",
    "quantum_yield_blue_instrumental_error"
   ],
   "metadata": {
    "collapsed": false
   }
  },
  {
   "cell_type": "code",
   "execution_count": 70,
   "outputs": [],
   "source": [
    "def b_p_v(n):\n",
    "    if n == 3:\n",
    "        return 1.30\n",
    "    if n == 4:\n",
    "        return 0.72\n",
    "    if n == 5:\n",
    "        return 0.51"
   ],
   "metadata": {
    "collapsed": false
   }
  },
  {
   "cell_type": "code",
   "execution_count": 71,
   "outputs": [
    {
     "data": {
      "text/plain": "(0.03631931034482761, 0.19343866485511876)"
     },
     "execution_count": 71,
     "metadata": {},
     "output_type": "execute_result"
    }
   ],
   "source": [
    "k_green_choise_error = b_p_v(3) * (k_green.max() - k_green.min())\n",
    "k_green_choise_error, k_green_choise_error / k_green.mean()"
   ],
   "metadata": {
    "collapsed": false
   }
  },
  {
   "cell_type": "code",
   "execution_count": 42,
   "outputs": [
    {
     "data": {
      "text/plain": "(0.40389655172413774, 0.2656565381149912)"
     },
     "execution_count": 42,
     "metadata": {},
     "output_type": "execute_result"
    }
   ],
   "source": [
    "k_blue_choise_error = b_p_v(3) * (k_blue.max() - k_blue.min())\n",
    "k_blue_choise_error, k_blue_choise_error / k_blue.mean()"
   ],
   "metadata": {
    "collapsed": false
   }
  },
  {
   "cell_type": "code",
   "execution_count": 72,
   "outputs": [
    {
     "data": {
      "text/plain": "(0.03655110830796255, 0.1877562087808555, 0.19467323368583841)"
     },
     "execution_count": 72,
     "metadata": {},
     "output_type": "execute_result"
    }
   ],
   "source": [
    "k_green_error = np.sqrt(pd.Series([k_green_choise_error, k_green_instrumental_error.mean()]).pow(2).sum())\n",
    "k_green_error, k_green.mean(), k_green_error / k_green.mean()"
   ],
   "metadata": {
    "collapsed": false
   }
  },
  {
   "cell_type": "code",
   "execution_count": 73,
   "outputs": [
    {
     "data": {
      "text/plain": "(0.4050125200104249, 1.5203712078387035, 0.2663905485201695)"
     },
     "execution_count": 73,
     "metadata": {},
     "output_type": "execute_result"
    }
   ],
   "source": [
    "k_blue_error = np.sqrt(pd.Series([k_blue_choise_error, k_blue_instrumental_error.mean()]).pow(2).sum())\n",
    "k_blue_error,k_blue.mean(), k_blue_error / k_blue.mean()"
   ],
   "metadata": {
    "collapsed": false
   }
  },
  {
   "cell_type": "code",
   "execution_count": 54,
   "outputs": [
    {
     "data": {
      "text/plain": "(181.59655172413815, 0.19343866485511887)"
     },
     "execution_count": 54,
     "metadata": {},
     "output_type": "execute_result"
    }
   ],
   "source": [
    "quantum_yield_green_choise_error = b_p_v * (quantum_yield_green.max() - quantum_yield_green.min())\n",
    "quantum_yield_green_choise_error, quantum_yield_green_choise_error / quantum_yield_green.mean()"
   ],
   "metadata": {
    "collapsed": false
   }
  },
  {
   "cell_type": "code",
   "execution_count": 55,
   "outputs": [
    {
     "data": {
      "text/plain": "(2181.041379310345, 0.2656565381149913)"
     },
     "execution_count": 55,
     "metadata": {},
     "output_type": "execute_result"
    }
   ],
   "source": [
    "quantum_yield_blue_choise_error = b_p_v * (quantum_yield_blue.max() - quantum_yield_blue.min())\n",
    "quantum_yield_blue_choise_error, quantum_yield_blue_choise_error / quantum_yield_blue.mean()"
   ],
   "metadata": {
    "collapsed": false
   }
  },
  {
   "cell_type": "code",
   "execution_count": 56,
   "outputs": [
    {
     "data": {
      "text/plain": "(182.75554153981284, 0.19467323368583853)"
     },
     "execution_count": 56,
     "metadata": {},
     "output_type": "execute_result"
    }
   ],
   "source": [
    "quantum_yield_green_error = np.sqrt(pd.Series([quantum_yield_green_choise_error, quantum_yield_green_instrumental_error.mean()]).pow(2).sum())\n",
    "quantum_yield_green_error, quantum_yield_green_error / quantum_yield_green.mean()"
   ],
   "metadata": {
    "collapsed": false
   }
  },
  {
   "cell_type": "code",
   "execution_count": 57,
   "outputs": [
    {
     "data": {
      "text/plain": "(2187.0676080562957, 0.26639054852016963)"
     },
     "execution_count": 57,
     "metadata": {},
     "output_type": "execute_result"
    }
   ],
   "source": [
    "quantum_yield_blue_error = np.sqrt(pd.Series([quantum_yield_blue_choise_error, quantum_yield_blue_instrumental_error.mean()]).pow(2).sum())\n",
    "quantum_yield_blue_error, quantum_yield_blue_error / quantum_yield_blue.mean()"
   ],
   "metadata": {
    "collapsed": false
   }
  },
  {
   "cell_type": "code",
   "execution_count": 74,
   "outputs": [],
   "source": [
    "U_locking_instrumental_error = 0.01"
   ],
   "metadata": {
    "collapsed": false
   }
  },
  {
   "cell_type": "code",
   "execution_count": 75,
   "outputs": [
    {
     "data": {
      "text/plain": "0.020399999999999963"
     },
     "execution_count": 75,
     "metadata": {},
     "output_type": "execute_result"
    }
   ],
   "source": [
    "U_locking_green_choice_error = b_p_v(5) * (U_locking_green.max() - U_locking_green.min())\n",
    "U_locking_green_choice_error"
   ],
   "metadata": {
    "collapsed": false
   }
  },
  {
   "cell_type": "code",
   "execution_count": 76,
   "outputs": [
    {
     "data": {
      "text/plain": "0.020399999999999963"
     },
     "execution_count": 76,
     "metadata": {},
     "output_type": "execute_result"
    }
   ],
   "source": [
    "U_locking_blue_choice_error = b_p_v(5) * (U_locking_blue.max() - U_locking_blue.min())\n",
    "U_locking_blue_choice_error"
   ],
   "metadata": {
    "collapsed": false
   }
  },
  {
   "cell_type": "code",
   "execution_count": 79,
   "outputs": [
    {
     "data": {
      "text/plain": "(0.02271915491386065, 0.67, 2.4200696276710505e-05)"
     },
     "execution_count": 79,
     "metadata": {},
     "output_type": "execute_result"
    }
   ],
   "source": [
    "U_locking_green_error = np.sqrt(pd.Series([U_locking_green_choice_error, U_locking_instrumental_error]).pow(2).sum())\n",
    "U_locking_green_error, U_locking_green.mean(), U_locking_green_error / quantum_yield_green.mean()"
   ],
   "metadata": {
    "collapsed": false
   }
  },
  {
   "cell_type": "code",
   "execution_count": 80,
   "outputs": [
    {
     "data": {
      "text/plain": "(0.02271915491386065, 0.684, 2.7672524238044776e-06)"
     },
     "execution_count": 80,
     "metadata": {},
     "output_type": "execute_result"
    }
   ],
   "source": [
    "U_locking_blue_error = np.sqrt(pd.Series([U_locking_blue_choice_error, U_locking_instrumental_error]).pow(2).sum())\n",
    "U_locking_blue_error, U_locking_blue.mean(), U_locking_blue_error / quantum_yield_blue.mean()"
   ],
   "metadata": {
    "collapsed": false
   }
  },
  {
   "cell_type": "code",
   "execution_count": null,
   "outputs": [],
   "source": [],
   "metadata": {
    "collapsed": false
   }
  }
 ],
 "metadata": {
  "kernelspec": {
   "display_name": "Python 3",
   "language": "python",
   "name": "python3"
  },
  "language_info": {
   "codemirror_mode": {
    "name": "ipython",
    "version": 2
   },
   "file_extension": ".py",
   "mimetype": "text/x-python",
   "name": "python",
   "nbconvert_exporter": "python",
   "pygments_lexer": "ipython2",
   "version": "2.7.6"
  }
 },
 "nbformat": 4,
 "nbformat_minor": 0
}
